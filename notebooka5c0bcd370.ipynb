{
  "metadata": {
    "kernelspec": {
      "language": "python",
      "display_name": "Python 3",
      "name": "python3"
    },
    "language_info": {
      "name": "python",
      "version": "3.7.12",
      "mimetype": "text/x-python",
      "codemirror_mode": {
        "name": "ipython",
        "version": 3
      },
      "pygments_lexer": "ipython3",
      "nbconvert_exporter": "python",
      "file_extension": ".py"
    },
    "colab": {
      "name": "notebooka5c0bcd370.ipynb",
      "provenance": [],
      "include_colab_link": true
    }
  },
  "nbformat_minor": 0,
  "nbformat": 4,
  "cells": [
    {
      "cell_type": "markdown",
      "metadata": {
        "id": "view-in-github",
        "colab_type": "text"
      },
      "source": [
        "<a href=\"https://colab.research.google.com/github/pranith-07/hello-world/blob/master/notebooka5c0bcd370.ipynb\" target=\"_parent\"><img src=\"https://colab.research.google.com/assets/colab-badge.svg\" alt=\"Open In Colab\"/></a>"
      ]
    },
    {
      "cell_type": "code",
      "source": [
        "import numpy as np\n",
        "import pandas as pd\n",
        "from sklearn.ensemble import RandomForestClassifier\n",
        "from xgboost import XGBClassifier\n",
        "from sklearn.model_selection import train_test_split\n",
        "from sklearn.metrics import accuracy_score,classification_report\n",
        "rfcl = RandomForestClassifier()\n",
        "xgbcl = XGBClassifier()\n",
        "data = pd.read_csv(\"/content/diabetes.csv\")"
      ],
      "metadata": {
        "_uuid": "8f2839f25d086af736a60e9eeb907d3b93b6e0e5",
        "_cell_guid": "b1076dfc-b9ad-4769-8c92-a6c4dae69d19",
        "execution": {
          "iopub.status.busy": "2022-05-02T14:16:03.750548Z",
          "iopub.execute_input": "2022-05-02T14:16:03.751526Z",
          "iopub.status.idle": "2022-05-02T14:16:03.787704Z",
          "shell.execute_reply.started": "2022-05-02T14:16:03.751471Z",
          "shell.execute_reply": "2022-05-02T14:16:03.786105Z"
        },
        "trusted": true,
        "id": "2ltMsYBLI3pl"
      },
      "execution_count": 7,
      "outputs": []
    },
    {
      "cell_type": "code",
      "source": [
        "print(data)\n",
        "\n",
        "print(data.shape)\n",
        "X = data.drop('Outcome',axis = 1)\n",
        "y= data['Outcome']\n",
        "X_train, X_test, y_train, y_test = train_test_split(X, y, test_size=0.33)\n",
        "print(X_train.shape)\n",
        "print(X_test.shape)\n",
        "rfcl.fit(X_train,y_train)\n",
        "xgbcl.fit(X_train,y_train)\n",
        "y_rfcl = rfcl.predict(X_test)\n",
        "\n",
        "y_xgbcl = xgbcl.predict(X_test)\n",
        "print(\"Random Forest Accuracy: \", accuracy_score(y_rfcl,y_test))\n",
        "\n",
        "print(\"XGBoost Accuracy: \", accuracy_score(y_xgbcl,y_test))"
      ],
      "metadata": {
        "execution": {
          "iopub.status.busy": "2022-05-02T14:16:03.844335Z",
          "iopub.execute_input": "2022-05-02T14:16:03.844667Z",
          "iopub.status.idle": "2022-05-02T14:16:03.872412Z",
          "shell.execute_reply.started": "2022-05-02T14:16:03.844636Z",
          "shell.execute_reply": "2022-05-02T14:16:03.871206Z"
        },
        "trusted": true,
        "colab": {
          "base_uri": "https://localhost:8080/"
        },
        "id": "ihrrHTCBI3p1",
        "outputId": "d4e16c3f-1a06-41e6-ec07-b3949004cd63"
      },
      "execution_count": 8,
      "outputs": [
        {
          "output_type": "stream",
          "name": "stdout",
          "text": [
            "     Pregnancies  Glucose  BloodPressure  SkinThickness  Insulin   BMI  \\\n",
            "0              6      148             72             35        0  33.6   \n",
            "1              1       85             66             29        0  26.6   \n",
            "2              8      183             64              0        0  23.3   \n",
            "3              1       89             66             23       94  28.1   \n",
            "4              0      137             40             35      168  43.1   \n",
            "..           ...      ...            ...            ...      ...   ...   \n",
            "763           10      101             76             48      180  32.9   \n",
            "764            2      122             70             27        0  36.8   \n",
            "765            5      121             72             23      112  26.2   \n",
            "766            1      126             60              0        0  30.1   \n",
            "767            1       93             70             31        0  30.4   \n",
            "\n",
            "     DiabetesPedigreeFunction  Age  Outcome  \n",
            "0                       0.627   50        1  \n",
            "1                       0.351   31        0  \n",
            "2                       0.672   32        1  \n",
            "3                       0.167   21        0  \n",
            "4                       2.288   33        1  \n",
            "..                        ...  ...      ...  \n",
            "763                     0.171   63        0  \n",
            "764                     0.340   27        0  \n",
            "765                     0.245   30        0  \n",
            "766                     0.349   47        1  \n",
            "767                     0.315   23        0  \n",
            "\n",
            "[768 rows x 9 columns]\n",
            "(768, 9)\n",
            "(514, 8)\n",
            "(254, 8)\n",
            "Random Forest Accuracy:  0.6929133858267716\n",
            "XGBoost Accuracy:  0.7283464566929134\n"
          ]
        }
      ]
    }
  ]
}